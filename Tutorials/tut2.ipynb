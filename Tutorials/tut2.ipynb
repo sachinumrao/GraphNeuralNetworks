{
 "cells": [
  {
   "cell_type": "code",
   "execution_count": 1,
   "id": "141ea25e-397f-4f0c-915d-c071ecf36a57",
   "metadata": {},
   "outputs": [],
   "source": [
    "import numpy as np\n",
    "import torch\n",
    "import torch.nn as nn\n",
    "import torch.functional as F"
   ]
  },
  {
   "cell_type": "code",
   "execution_count": 2,
   "id": "6e9bf1fa-a4ed-4c5d-ba7c-636267c72fb6",
   "metadata": {},
   "outputs": [],
   "source": [
    "class GATLayer(nn.Module):\n",
    "    \"\"\"\n",
    "    Implementation of Graph Attentiona Layer\n",
    "    \"\"\"\n",
    "    \n",
    "    def __init__(self):\n",
    "        super(GATLayer, self).__init__()\n",
    "        \n",
    "    def forward(self, x, adj):\n",
    "        print(\"\")"
   ]
  },
  {
   "cell_type": "code",
   "execution_count": 3,
   "id": "d6cbbf18-71f1-4f6b-a3df-9e81f97c6ffb",
   "metadata": {},
   "outputs": [
    {
     "name": "stdout",
     "output_type": "stream",
     "text": [
      "torch.Size([3, 2])\n"
     ]
    }
   ],
   "source": [
    "in_features = 5\n",
    "out_features = 2\n",
    "nb_nodes = 3\n",
    "\n",
    "W = nn.Parameter(torch.zeros(size=(in_features, out_features)))\n",
    "nn.init.xavier_uniform_(W.data, gain=1.414)\n",
    "\n",
    "x = torch.rand(nb_nodes, in_features)\n",
    "\n",
    "h = torch.mm(x, W)\n",
    "N = h.size()[0]\n",
    "\n",
    "print(h.shape)"
   ]
  },
  {
   "cell_type": "code",
   "execution_count": 4,
   "id": "77f865f0-a8f9-478c-977a-11725d93d246",
   "metadata": {},
   "outputs": [
    {
     "name": "stdout",
     "output_type": "stream",
     "text": [
      "torch.Size([4, 1])\n"
     ]
    }
   ],
   "source": [
    "a = nn.Parameter(torch.zeros(size=(2*out_features, 1)))\n",
    "nn.init.xavier_uniform_(a.data, gain=1.414)\n",
    "\n",
    "print(a.shape)\n",
    "\n",
    "leakyrelu = nn.LeakyReLU(0.2)"
   ]
  },
  {
   "cell_type": "code",
   "execution_count": 5,
   "id": "6cb1d885-e2a8-4807-89f1-cdc4a9d41efc",
   "metadata": {},
   "outputs": [],
   "source": [
    "a_input = torch.cat(\n",
    "    [h.repeat(1, N).view(N*N, -1), h.repeat(N, 1)],\n",
    "    dim=1).view(N, -1, 2*out_features)"
   ]
  },
  {
   "cell_type": "code",
   "execution_count": 6,
   "id": "5ed21ed0-bbd9-46f4-b7e9-68b26ec70b35",
   "metadata": {},
   "outputs": [],
   "source": [
    "e = leakyrelu(torch.matmul(a_input, a).squeeze(2))"
   ]
  },
  {
   "cell_type": "code",
   "execution_count": 7,
   "id": "42773ece-9f2a-4634-9810-b20831ce37b2",
   "metadata": {},
   "outputs": [
    {
     "name": "stdout",
     "output_type": "stream",
     "text": [
      "torch.Size([3, 3, 4])\n",
      "torch.Size([4, 1])\n",
      "torch.Size([3, 3, 1])\n",
      "torch.Size([3, 3])\n"
     ]
    }
   ],
   "source": [
    "print(a_input.shape)\n",
    "print(a.shape)\n",
    "print(torch.matmul(a_input, a).shape)\n",
    "print(torch.matmul(a_input, a).squeeze(2).shape)"
   ]
  },
  {
   "cell_type": "code",
   "execution_count": 8,
   "id": "3860b3c9-d9f5-42c5-a1b5-8d9ae1b91fc0",
   "metadata": {},
   "outputs": [
    {
     "data": {
      "text/plain": [
       "tensor([[ 0.1153,  0.0884, -0.0582],\n",
       "        [-0.0075, -0.0129, -0.0888],\n",
       "        [ 0.4446,  0.4177,  0.0381]], grad_fn=<LeakyReluBackward0>)"
      ]
     },
     "execution_count": 8,
     "metadata": {},
     "output_type": "execute_result"
    }
   ],
   "source": [
    "e"
   ]
  },
  {
   "cell_type": "markdown",
   "id": "f9d1e103-8f27-4739-80d3-5ea761927230",
   "metadata": {},
   "source": [
    "## masked attention"
   ]
  },
  {
   "cell_type": "code",
   "execution_count": 10,
   "id": "18695dae-f4cf-4d4e-baec-8fbd3d5c8133",
   "metadata": {},
   "outputs": [
    {
     "name": "stdout",
     "output_type": "stream",
     "text": [
      "torch.Size([3, 3])\n"
     ]
    }
   ],
   "source": [
    "adj = torch.randint(2, (3,3))\n",
    "\n",
    "zero_vec = -915*torch.ones_like(e)\n",
    "\n",
    "print(zero_vec.shape)"
   ]
  },
  {
   "cell_type": "code",
   "execution_count": 11,
   "id": "2dba20e8-e8c0-4b59-b009-01102de14348",
   "metadata": {},
   "outputs": [
    {
     "name": "stdout",
     "output_type": "stream",
     "text": [
      "tensor([[1, 1, 1],\n",
      "        [1, 1, 1],\n",
      "        [0, 1, 1]]) \n",
      " tensor([[ 0.1153,  0.0884, -0.0582],\n",
      "        [-0.0075, -0.0129, -0.0888],\n",
      "        [ 0.4446,  0.4177,  0.0381]], grad_fn=<LeakyReluBackward0>) \n",
      " tensor([[-915., -915., -915.],\n",
      "        [-915., -915., -915.],\n",
      "        [-915., -915., -915.]])\n"
     ]
    },
    {
     "data": {
      "text/plain": [
       "tensor([[ 1.1530e-01,  8.8434e-02, -5.8241e-02],\n",
       "        [-7.5102e-03, -1.2884e-02, -8.8812e-02],\n",
       "        [-9.1500e+02,  4.1773e-01,  3.8096e-02]], grad_fn=<SWhereBackward>)"
      ]
     },
     "execution_count": 11,
     "metadata": {},
     "output_type": "execute_result"
    }
   ],
   "source": [
    "attention = torch.where(adj>0, e, zero_vec)\n",
    "print(adj, \"\\n\", e, \"\\n\", zero_vec)\n",
    "attention"
   ]
  },
  {
   "cell_type": "code",
   "execution_count": 13,
   "id": "0062c041-0dcf-4ece-bdc9-8f364b9728ff",
   "metadata": {},
   "outputs": [],
   "source": [
    "attention = torch.nn.functional.softmax(attention, dim=1)\n",
    "h_prime = torch.matmul(attention, h)"
   ]
  },
  {
   "cell_type": "code",
   "execution_count": 14,
   "id": "00ed3b61-9f17-4378-80ec-9d7bf2b78f4d",
   "metadata": {},
   "outputs": [
    {
     "data": {
      "text/plain": [
       "tensor([[0.3553, 0.3459, 0.2987],\n",
       "        [0.3429, 0.3410, 0.3161],\n",
       "        [0.0000, 0.5938, 0.4062]], grad_fn=<SoftmaxBackward>)"
      ]
     },
     "execution_count": 14,
     "metadata": {},
     "output_type": "execute_result"
    }
   ],
   "source": [
    "attention"
   ]
  },
  {
   "cell_type": "code",
   "execution_count": 15,
   "id": "06b80a71-dfb1-4bc1-97a1-230bff7fde0b",
   "metadata": {},
   "outputs": [
    {
     "data": {
      "text/plain": [
       "tensor([[-0.0400, -0.0061],\n",
       "        [-0.0502, -0.0220],\n",
       "        [ 0.0858,  0.0867]], grad_fn=<MmBackward>)"
      ]
     },
     "execution_count": 15,
     "metadata": {},
     "output_type": "execute_result"
    }
   ],
   "source": [
    "h_prime"
   ]
  },
  {
   "cell_type": "code",
   "execution_count": 16,
   "id": "95337dd7-8115-431f-8b32-6194cda734b7",
   "metadata": {},
   "outputs": [
    {
     "data": {
      "text/plain": [
       "tensor([[-0.1569, -0.0287],\n",
       "        [ 0.5218,  0.6579],\n",
       "        [-0.5515, -0.7481]], grad_fn=<MmBackward>)"
      ]
     },
     "execution_count": 16,
     "metadata": {},
     "output_type": "execute_result"
    }
   ],
   "source": [
    "h"
   ]
  },
  {
   "cell_type": "markdown",
   "id": "ef126f1d-0cdc-4eac-88da-6701ea0faa4b",
   "metadata": {},
   "source": [
    "## Building the Layer"
   ]
  },
  {
   "cell_type": "code",
   "execution_count": null,
   "id": "9544ef5c-b9a9-41f4-a5e6-e83252aa9c07",
   "metadata": {},
   "outputs": [],
   "source": []
  }
 ],
 "metadata": {
  "kernelspec": {
   "display_name": "Python 3 (ipykernel)",
   "language": "python",
   "name": "python3"
  },
  "language_info": {
   "codemirror_mode": {
    "name": "ipython",
    "version": 3
   },
   "file_extension": ".py",
   "mimetype": "text/x-python",
   "name": "python",
   "nbconvert_exporter": "python",
   "pygments_lexer": "ipython3",
   "version": "3.8.12"
  }
 },
 "nbformat": 4,
 "nbformat_minor": 5
}

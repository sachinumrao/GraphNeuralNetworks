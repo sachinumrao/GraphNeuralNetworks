{
 "cells": [
  {
   "cell_type": "code",
   "execution_count": 2,
   "id": "5191149b-ded3-4c4f-80a7-e9de9ad2b60b",
   "metadata": {},
   "outputs": [],
   "source": [
    "import torch_geometric\n",
    "from torch_geometric.datasets import Planetoid"
   ]
  },
  {
   "cell_type": "markdown",
   "id": "01354b67-7364-4a4a-a527-565450ea4db9",
   "metadata": {
    "tags": []
   },
   "source": [
    "## Load datset"
   ]
  },
  {
   "cell_type": "code",
   "execution_count": 3,
   "id": "2c294a60-44cf-42dd-890d-2e324dd613a7",
   "metadata": {},
   "outputs": [
    {
     "name": "stderr",
     "output_type": "stream",
     "text": [
      "Downloading https://github.com/kimiyoung/planetoid/raw/master/data/ind.cora.x\n",
      "Downloading https://github.com/kimiyoung/planetoid/raw/master/data/ind.cora.tx\n",
      "Downloading https://github.com/kimiyoung/planetoid/raw/master/data/ind.cora.allx\n",
      "Downloading https://github.com/kimiyoung/planetoid/raw/master/data/ind.cora.y\n",
      "Downloading https://github.com/kimiyoung/planetoid/raw/master/data/ind.cora.ty\n",
      "Downloading https://github.com/kimiyoung/planetoid/raw/master/data/ind.cora.ally\n",
      "Downloading https://github.com/kimiyoung/planetoid/raw/master/data/ind.cora.graph\n",
      "Downloading https://github.com/kimiyoung/planetoid/raw/master/data/ind.cora.test.index\n",
      "Processing...\n",
      "Done!\n"
     ]
    }
   ],
   "source": [
    "dataset = Planetoid(root=\"tutorial\", name=\"Cora\")"
   ]
  },
  {
   "cell_type": "code",
   "execution_count": 4,
   "id": "337796b0-d119-41e4-b4fb-245e90e3d4da",
   "metadata": {},
   "outputs": [
    {
     "name": "stdout",
     "output_type": "stream",
     "text": [
      "Number of graphs:\t 1\n",
      "Number of classes:\t 7\n",
      "Number of node features:\t 1433\n",
      "Number of edge features:\t 0\n"
     ]
    }
   ],
   "source": [
    "print(\"Number of graphs:\\t\", len(dataset))\n",
    "print(\"Number of classes:\\t\", dataset.num_classes)\n",
    "print(\"Number of node features:\\t\", dataset.num_node_features)\n",
    "print(\"Number of edge features:\\t\", dataset.num_edge_features)"
   ]
  },
  {
   "cell_type": "code",
   "execution_count": 5,
   "id": "14d964f3-ba65-4942-a309-a2c388d06886",
   "metadata": {},
   "outputs": [
    {
     "name": "stdout",
     "output_type": "stream",
     "text": [
      "Data(x=[2708, 1433], edge_index=[2, 10556], y=[2708], train_mask=[2708], val_mask=[2708], test_mask=[2708])\n"
     ]
    }
   ],
   "source": [
    "print(dataset.data)"
   ]
  },
  {
   "cell_type": "markdown",
   "id": "4eea91e0-8067-4f81-90e5-583ae6d8fed9",
   "metadata": {},
   "source": [
    "## Build model"
   ]
  },
  {
   "cell_type": "code",
   "execution_count": 16,
   "id": "2a5cb2ad-7793-439d-b058-4b91865eec5d",
   "metadata": {},
   "outputs": [],
   "source": [
    "import torch\n",
    "import torch.nn.functional as F\n",
    "from torch_geometric.nn import SAGEConv"
   ]
  },
  {
   "cell_type": "code",
   "execution_count": 7,
   "id": "e5c194e4-e66c-416d-96c3-8f850ddcc041",
   "metadata": {},
   "outputs": [],
   "source": [
    "data = dataset[0]"
   ]
  },
  {
   "cell_type": "code",
   "execution_count": 17,
   "id": "6eae8e38-343e-4f98-adef-1ae6e3a567a1",
   "metadata": {},
   "outputs": [],
   "source": [
    "class GraphNet(torch.nn.Module):\n",
    "    def __init__(self):\n",
    "        super(GraphNet, self).__init__()\n",
    "        self.conv = SAGEConv(dataset.num_features,\n",
    "                             dataset.num_classes,\n",
    "                             aggr=\"max\")\n",
    "        \n",
    "    def forward(self):\n",
    "        x = self.conv(data.x, data.edge_index)\n",
    "        return F.log_softmax(x, dim=1)"
   ]
  },
  {
   "cell_type": "code",
   "execution_count": 18,
   "id": "a9ef8ace-ac57-41a4-9814-92a97664df67",
   "metadata": {},
   "outputs": [],
   "source": [
    "device = torch.device('cuda' if torch.cuda.is_available() else 'cpu')\n",
    "model = GraphNet().to(device)\n",
    "data = data.to(device)\n",
    "optimizer = torch.optim.Adam(model.parameters(),\n",
    "                             lr=0.01,\n",
    "                             weight_decay=5e-4)"
   ]
  },
  {
   "cell_type": "markdown",
   "id": "d378c751-d17b-4c82-b26b-15832c889bbf",
   "metadata": {},
   "source": [
    "## Train model"
   ]
  },
  {
   "cell_type": "code",
   "execution_count": 19,
   "id": "28508df0-0589-442f-baf3-d05d02ca71a6",
   "metadata": {},
   "outputs": [],
   "source": [
    "def train():\n",
    "    model.train()\n",
    "    optimizer.zero_grad()\n",
    "    out = model()[data.train_mask]\n",
    "    y = data.y[data.train_mask]\n",
    "    loss = F.nll_loss(out, y)\n",
    "    grad = loss.backward()\n",
    "    optimizer.step()\n",
    "                  "
   ]
  },
  {
   "cell_type": "code",
   "execution_count": 25,
   "id": "b22238ed-0e0e-470b-a186-474e6c285984",
   "metadata": {},
   "outputs": [],
   "source": [
    "def test():\n",
    "    model.eval()\n",
    "    logits = model()\n",
    "    accs = []\n",
    "    for _, mask in data('train_mask', 'val_mask', 'test_mask'):\n",
    "        pred = logits[mask].max(1)[1]\n",
    "        acc = pred.eq(data.y[mask]).sum().item() / mask.sum().item()\n",
    "        accs.append(acc)\n",
    "    return accs"
   ]
  },
  {
   "cell_type": "code",
   "execution_count": 27,
   "id": "4847370e-07ed-4695-a86a-fa42b3f6d2a1",
   "metadata": {},
   "outputs": [
    {
     "name": "stdout",
     "output_type": "stream",
     "text": [
      "Epoch: 010, Val: 0.7200, Test: 0.7170\n",
      "Epoch: 020, Val: 0.7200, Test: 0.7170\n",
      "Epoch: 030, Val: 0.7200, Test: 0.7170\n",
      "Epoch: 040, Val: 0.7200, Test: 0.7170\n",
      "Epoch: 050, Val: 0.7220, Test: 0.7160\n",
      "Epoch: 060, Val: 0.7220, Test: 0.7160\n",
      "Epoch: 070, Val: 0.7220, Test: 0.7160\n",
      "Epoch: 080, Val: 0.7220, Test: 0.7160\n",
      "Epoch: 090, Val: 0.7240, Test: 0.7260\n"
     ]
    }
   ],
   "source": [
    "best_val_acc = 0\n",
    "test_acc = 0\n",
    "\n",
    "for epoch in range(1, 100):\n",
    "    train()\n",
    "    _, val_acc, tmp_test_acc = test()\n",
    "    \n",
    "    if val_acc > best_val_acc:\n",
    "        best_val_acc = val_acc\n",
    "        test_acc = tmp_test_acc\n",
    "    \n",
    "    log = \"Epoch: {:03d}, Val: {:.4f}, Test: {:.4f}\"\n",
    "    \n",
    "    if epoch%10 == 0:\n",
    "        print(log.format(epoch, best_val_acc, test_acc))"
   ]
  },
  {
   "cell_type": "code",
   "execution_count": null,
   "id": "ec255234-2ed0-4109-9648-55bbf7a7a20e",
   "metadata": {},
   "outputs": [],
   "source": []
  }
 ],
 "metadata": {
  "kernelspec": {
   "display_name": "Python 3.8.10 64-bit ('tf2': conda)",
   "language": "python",
   "name": "python3810jvsc74a57bd04ef9f84e7781b2d07a78b4e1f1e04aeacca2827edfd216d06d0faeafdbe83991"
  },
  "language_info": {
   "codemirror_mode": {
    "name": "ipython",
    "version": 3
   },
   "file_extension": ".py",
   "mimetype": "text/x-python",
   "name": "python",
   "nbconvert_exporter": "python",
   "pygments_lexer": "ipython3",
   "version": "3.8.10"
  }
 },
 "nbformat": 4,
 "nbformat_minor": 5
}
